{
 "cells": [
  {
   "cell_type": "markdown",
   "metadata": {},
   "source": [
    "**Course website**: http://www.leouieda.com/matematica-especial\n",
    "\n",
    "**Note**: This notebook is part of the course \"Matemática Especial I\" of the [Universidade do Estado do Rio de Janeiro](http://www.uerj.br/). All content can be freely used and adapted under the terms of the \n",
    "[Creative Commons Attribution 4.0 International License](http://creativecommons.org/licenses/by/4.0/).\n",
    "\n",
    "![Creative Commons License](https://i.creativecommons.org/l/by/4.0/88x31.png)"
   ]
  },
  {
   "cell_type": "markdown",
   "metadata": {},
   "source": [
    "# Um tour guiado do Jupyter notebook\n",
    "\n",
    "Esse documento que você está usando é um [Jupyter notebook](http://jupyter.org/). É um documento interativo que mistura texto (como esse), código (como abaixo), e o resultado de executar o código (números, texto, figuras, videos, audio, etc).\n",
    "\n",
    "O notebook é uma ferramenta ideal para fazer análise de dados. Texto com links, fórmulas e figuras podem acompanhar o código da análise para descrever a teoria. As figuras geradas pelo cógido aparecem logo abaixo, deixando claro qual parte do programa gerou cada figura.\n",
    "\n",
    "Além disso, o notebook nos permite explorar. Cada célula de código pode ser executada de maneira independente e em qualquer ordem.\n",
    "\n",
    "Por exemplo, rode a célula baixo para criar uma variável `temperatura` e dar um valor a ela (clique na célula e aperte `Shift + Enter` para executar)."
   ]
  },
  {
   "cell_type": "code",
   "execution_count": 45,
   "metadata": {
    "collapsed": true
   },
   "outputs": [],
   "source": [
    "temperatura = 78"
   ]
  },
  {
   "cell_type": "markdown",
   "metadata": {},
   "source": [
    "O número `In [1]:` que aparece ao lado da célula marca a ordem na qual as células foram executadas. `[1]` significa que a célula acima foi a primeira.\n",
    "\n",
    "Rode a célula abaixo para imprimir o valor de `temperatura`."
   ]
  },
  {
   "cell_type": "code",
   "execution_count": 46,
   "metadata": {
    "collapsed": false
   },
   "outputs": [
    {
     "name": "stdout",
     "output_type": "stream",
     "text": [
      "78\n"
     ]
    }
   ],
   "source": [
    "print(temperatura)"
   ]
  },
  {
   "cell_type": "markdown",
   "metadata": {},
   "source": [
    "As células podem ser executadas em qualquer ordem. Por exemplo, rode a célula abaixo para alterar o valor de `temperatura` e depois rode a célula acima novamente. Repare na ordem dos números das células."
   ]
  },
  {
   "cell_type": "code",
   "execution_count": 3,
   "metadata": {
    "collapsed": true
   },
   "outputs": [],
   "source": [
    "temperatura = \"Infernal\""
   ]
  },
  {
   "cell_type": "markdown",
   "metadata": {},
   "source": [
    "Todo cógido Python que você apredeu até agora é válido no notebook."
   ]
  },
  {
   "cell_type": "markdown",
   "metadata": {},
   "source": [
    "Você pode também criar células de texto selecionando a opção \"Markdown\" no menu do topo da página (onde provavelmente está escrito \"Code\"). Clique em \"Help\" -> \"Markdown\" para ver as opções de formatação que o Jupyter premite. Clique em alguma célula de texto (como essa) para ver o código Markdown do texto. Para voltar ao normal, execute a célula com \"Shift + Enter\"."
   ]
  },
  {
   "cell_type": "markdown",
   "metadata": {},
   "source": [
    "Como exemplo, vamos criar uma lista com valores em ordem aleatória para mostrar nosso algoritmo bubble sort."
   ]
  },
  {
   "cell_type": "code",
   "execution_count": 33,
   "metadata": {
    "collapsed": false
   },
   "outputs": [
    {
     "name": "stdout",
     "output_type": "stream",
     "text": [
      "Lista original: [0, 1, 2, 3, 4, 5, 6, 7, 8, 9, 10, 11, 12, 13, 14, 15, 16, 17, 18, 19, 20, 21, 22, 23, 24, 25, 26, 27, 28, 29, 30, 31, 32, 33, 34, 35, 36, 37, 38, 39, 40, 41, 42, 43, 44, 45, 46, 47, 48, 49, 50, 51, 52, 53, 54, 55, 56, 57, 58, 59, 60, 61, 62, 63, 64, 65, 66, 67, 68, 69, 70, 71, 72, 73, 74, 75, 76, 77, 78, 79, 80, 81, 82, 83, 84, 85, 86, 87, 88, 89, 90, 91, 92, 93, 94, 95, 96, 97, 98, 99, 100, 101, 102, 103, 104, 105, 106, 107, 108, 109, 110, 111, 112, 113, 114, 115, 116, 117, 118, 119, 120, 121, 122, 123, 124, 125, 126, 127, 128, 129, 130, 131, 132, 133, 134, 135, 136, 137, 138, 139, 140, 141, 142, 143, 144, 145, 146, 147, 148, 149, 150, 151, 152, 153, 154, 155, 156, 157, 158, 159, 160, 161, 162, 163, 164, 165, 166, 167, 168, 169, 170, 171, 172, 173, 174, 175, 176, 177, 178, 179, 180, 181, 182, 183, 184, 185, 186, 187, 188, 189, 190, 191, 192, 193, 194, 195, 196, 197, 198, 199, 200, 201, 202, 203, 204, 205, 206, 207, 208, 209, 210, 211, 212, 213, 214, 215, 216, 217, 218, 219, 220, 221, 222, 223, 224, 225, 226, 227, 228, 229, 230, 231, 232, 233, 234, 235, 236, 237, 238, 239, 240]\n"
     ]
    }
   ],
   "source": [
    "lista = list(range(241))\n",
    "print(\"Lista original:\", lista)"
   ]
  },
  {
   "cell_type": "markdown",
   "metadata": {},
   "source": [
    "Vamos utilizar a bibliotera `random` para embaralhar a nossa lista."
   ]
  },
  {
   "cell_type": "code",
   "execution_count": 34,
   "metadata": {
    "collapsed": true
   },
   "outputs": [],
   "source": [
    "import random"
   ]
  },
  {
   "cell_type": "code",
   "execution_count": 35,
   "metadata": {
    "collapsed": false
   },
   "outputs": [
    {
     "name": "stdout",
     "output_type": "stream",
     "text": [
      "Lista embaralhada: [154, 4, 234, 210, 111, 161, 36, 199, 145, 83, 192, 240, 159, 224, 20, 198, 149, 173, 144, 221, 226, 35, 203, 54, 86, 10, 87, 110, 16, 162, 73, 206, 52, 182, 166, 232, 40, 19, 114, 183, 59, 200, 193, 186, 140, 163, 58, 208, 75, 220, 132, 46, 202, 13, 175, 29, 172, 165, 30, 66, 8, 34, 133, 80, 99, 168, 155, 82, 218, 229, 43, 180, 174, 216, 78, 79, 222, 141, 84, 126, 60, 139, 119, 191, 184, 93, 189, 227, 17, 104, 143, 147, 53, 32, 81, 225, 211, 136, 72, 237, 181, 185, 121, 101, 23, 27, 22, 15, 28, 215, 100, 6, 122, 89, 116, 47, 135, 25, 188, 115, 205, 160, 118, 71, 153, 235, 37, 195, 213, 97, 134, 77, 148, 179, 76, 12, 157, 103, 112, 125, 131, 106, 42, 5, 196, 39, 187, 91, 176, 2, 7, 197, 123, 90, 214, 212, 127, 129, 105, 68, 74, 1, 57, 9, 151, 117, 230, 219, 238, 21, 98, 94, 164, 67, 14, 102, 124, 204, 150, 239, 24, 50, 45, 64, 65, 201, 11, 231, 113, 158, 51, 107, 194, 69, 56, 95, 96, 18, 70, 44, 120, 236, 26, 62, 108, 49, 31, 167, 41, 130, 190, 228, 63, 177, 138, 48, 142, 178, 169, 137, 128, 92, 109, 209, 156, 85, 33, 61, 233, 38, 3, 88, 207, 217, 152, 0, 55, 146, 170, 171, 223]\n"
     ]
    }
   ],
   "source": [
    "# Embaralhar em inglês é \"shuffle\" (PS: comentários também são válidos)\n",
    "random.shuffle(lista)\n",
    "print(\"Lista embaralhada:\", lista)"
   ]
  },
  {
   "cell_type": "code",
   "execution_count": 36,
   "metadata": {
    "collapsed": false
   },
   "outputs": [
    {
     "name": "stdout",
     "output_type": "stream",
     "text": [
      "Cinco primeiros numeros: [154, 4, 234, 210, 111]\n"
     ]
    }
   ],
   "source": [
    "print(\"Cinco primeiros numeros:\", lista[0:5])"
   ]
  },
  {
   "cell_type": "markdown",
   "metadata": {},
   "source": [
    "Um jeito fácil de descobrir o número de elementos de uma lista é com a função `len`."
   ]
  },
  {
   "cell_type": "code",
   "execution_count": 37,
   "metadata": {
    "collapsed": false
   },
   "outputs": [
    {
     "name": "stdout",
     "output_type": "stream",
     "text": [
      "241\n"
     ]
    }
   ],
   "source": [
    "N = len(lista)\n",
    "print(N)"
   ]
  },
  {
   "cell_type": "markdown",
   "metadata": {},
   "source": [
    "Antes de organizar a lista, vamos pegar uma cópia para não perder a lista original (bagunçada)."
   ]
  },
  {
   "cell_type": "code",
   "execution_count": 41,
   "metadata": {
    "collapsed": true
   },
   "outputs": [],
   "source": [
    "lista_org = lista.copy()"
   ]
  },
  {
   "cell_type": "markdown",
   "metadata": {},
   "source": [
    "O código abaixo implementa nosso bubble sort para organizar os valores de `lista_org`. Note que o código para fazer as trocas está diferente."
   ]
  },
  {
   "cell_type": "code",
   "execution_count": 42,
   "metadata": {
    "collapsed": false
   },
   "outputs": [],
   "source": [
    "for i in range(N - 1):\n",
    "    for j in range(i + 1, N):\n",
    "        if lista_org[i] > lista_org[j]:\n",
    "            lista_org[i], lista_org[j] = lista_org[j], lista_org[i]"
   ]
  },
  {
   "cell_type": "code",
   "execution_count": 40,
   "metadata": {
    "collapsed": false
   },
   "outputs": [
    {
     "name": "stdout",
     "output_type": "stream",
     "text": [
      "Organizada: [0, 1, 2, 3, 4, 5, 6, 7, 8, 9, 10, 11, 12, 13, 14, 15, 16, 17, 18, 19, 20, 21, 22, 23, 24, 25, 26, 27, 28, 29, 30, 31, 32, 33, 34, 35, 36, 37, 38, 39, 40, 41, 42, 43, 44, 45, 46, 47, 48, 49, 50, 51, 52, 53, 54, 55, 56, 57, 58, 59, 60, 61, 62, 63, 64, 65, 66, 67, 68, 69, 70, 71, 72, 73, 74, 75, 76, 77, 78, 79, 80, 81, 82, 83, 84, 85, 86, 87, 88, 89, 90, 91, 92, 93, 94, 95, 96, 97, 98, 99, 100, 101, 102, 103, 104, 105, 106, 107, 108, 109, 110, 111, 112, 113, 114, 115, 116, 117, 118, 119, 120, 121, 122, 123, 124, 125, 126, 127, 128, 129, 130, 131, 132, 133, 134, 135, 136, 137, 138, 139, 140, 141, 142, 143, 144, 145, 146, 147, 148, 149, 150, 151, 152, 153, 154, 155, 156, 157, 158, 159, 160, 161, 162, 163, 164, 165, 166, 167, 168, 169, 170, 171, 172, 173, 174, 175, 176, 177, 178, 179, 180, 181, 182, 183, 184, 185, 186, 187, 188, 189, 190, 191, 192, 193, 194, 195, 196, 197, 198, 199, 200, 201, 202, 203, 204, 205, 206, 207, 208, 209, 210, 211, 212, 213, 214, 215, 216, 217, 218, 219, 220, 221, 222, 223, 224, 225, 226, 227, 228, 229, 230, 231, 232, 233, 234, 235, 236, 237, 238, 239, 240]\n"
     ]
    }
   ],
   "source": [
    "print(\"Organizada:\", lista_org)"
   ]
  },
  {
   "cell_type": "markdown",
   "metadata": {},
   "source": [
    "O notebook tem suporte para gráficos do [matplotlib](http://matplotlib.org/) também."
   ]
  },
  {
   "cell_type": "code",
   "execution_count": 16,
   "metadata": {
    "collapsed": true
   },
   "outputs": [],
   "source": [
    "import matplotlib.pyplot as plt"
   ]
  },
  {
   "cell_type": "markdown",
   "metadata": {},
   "source": [
    "Além disso, o notebook possui \"mágicas\" (sim, elas realmente chamadas de *magics*). As mágicas são coisas específicas do notebook (não do Python). Mágicas começam com `%`. A mágica abaixo diz ao matplotlib para inserir as figuras diretamente no notebook."
   ]
  },
  {
   "cell_type": "code",
   "execution_count": 30,
   "metadata": {
    "collapsed": false
   },
   "outputs": [],
   "source": [
    "%matplotlib inline"
   ]
  },
  {
   "cell_type": "code",
   "execution_count": 43,
   "metadata": {
    "collapsed": false
   },
   "outputs": [
    {
     "data": {
      "text/plain": [
       "<matplotlib.text.Text at 0x7a440b8>"
      ]
     },
     "execution_count": 43,
     "metadata": {},
     "output_type": "execute_result"
    },
    {
     "data": {
      "image/png": "[encoded data removed]",
      "text/plain": [
       "<matplotlib.figure.Figure at 0x7709668>"
      ]
     },
     "metadata": {},
     "output_type": "display_data"
    }
   ],
   "source": [
    "plt.figure()\n",
    "plt.plot(range(N), lista, 'ok')\n",
    "plt.plot(range(N), lista_org, 'or')\n",
    "plt.xlabel('Indice')\n",
    "plt.ylabel('Valor')"
   ]
  },
  {
   "cell_type": "markdown",
   "metadata": {},
   "source": [
    "Os resultados (texto, figuras, etc) que são gerados ficam salvos no notebook. Isso quer dizer que cada vez que você executa o notebook, o git verá mudanças no arquivo `.ipynb`. Você deve fazer commits com essas mudanças para que eu veja os resultados do seu código quando entregar as tarefas."
   ]
  },
  {
   "cell_type": "code",
   "execution_count": null,
   "metadata": {
    "collapsed": false
   },
   "outputs": [],
   "source": []
  },
  {
   "cell_type": "code",
   "execution_count": null,
   "metadata": {
    "collapsed": true
   },
   "outputs": [],
   "source": []
  }
 ],
 "metadata": {
  "kernelspec": {
   "display_name": "Python 3",
   "language": "python",
   "name": "python3"
  },
  "language_info": {
   "codemirror_mode": {
    "name": "ipython",
    "version": 3
   },
   "file_extension": ".py",
   "mimetype": "text/x-python",
   "name": "python",
   "nbconvert_exporter": "python",
   "pygments_lexer": "ipython3",
   "version": "3.4.3"
  }
 },
 "nbformat": 4,
 "nbformat_minor": 0
}
